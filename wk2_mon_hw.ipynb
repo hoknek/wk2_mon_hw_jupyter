{
 "cells": [
  {
   "cell_type": "code",
   "execution_count": null,
   "metadata": {},
   "outputs": [],
   "source": [
    "print('\\nWelcome to the calculator!')\n",
    "while True:\n",
    "    x = input('Enter a number: ')\n",
    "    y = input('Enter command \"plus\", \"minus\", \"multiply\", \"divide\", \"square\", or \"square-root\": ')\n",
    "    if y == \"plus\" or y == \"minus\" or y == \"multiply\" or  y == \"divide\":\n",
    "        z = input('Enter another number for \"plus\", \"minus\", \"multiply\", or \"divide\": ')\n",
    "        if y == 'plus':\n",
    "            print(\"\\nYour answer: \" + str(float(x) + float(z)))\n",
    "        if y == 'minus':\n",
    "            print(\"\\nYour answer: \" + str(float(x) - float(z)))\n",
    "        if y == 'multiply':\n",
    "            print(\"\\nYour answer: \" + str(float(x) * float(z)))\n",
    "        if y == 'divide':\n",
    "            print(\"\\nYour answer: \" + str(float(x) / float(z)))\n",
    "    else:\n",
    "        if y == 'square':\n",
    "            print(\"\\nYour answer: \" + str(float(x)**(2)))\n",
    "        if y == 'square-root':\n",
    "            print(\"\\nYour answer: \" + str(float(x)**(float(.5))))\n",
    "    z = input('Press \"enter\" to continue. Press \"q\" to quit: ')\n",
    "    if z == \"q\":\n",
    "        break"
   ]
  },
  {
   "cell_type": "code",
   "execution_count": null,
   "metadata": {},
   "outputs": [],
   "source": [
    "n = 12\n",
    "for i in range(1,n+1):\n",
    "    print(\" \" * (int(n)-i) + \"x\" * (i * 2 -1))  "
   ]
  }
 ],
 "metadata": {
  "kernelspec": {
   "display_name": "Python 3",
   "language": "python",
   "name": "python3"
  },
  "language_info": {
   "codemirror_mode": {
    "name": "ipython",
    "version": 3
   },
   "file_extension": ".py",
   "mimetype": "text/x-python",
   "name": "python",
   "nbconvert_exporter": "python",
   "pygments_lexer": "ipython3",
   "version": "3.7.6"
  }
 },
 "nbformat": 4,
 "nbformat_minor": 4
}
